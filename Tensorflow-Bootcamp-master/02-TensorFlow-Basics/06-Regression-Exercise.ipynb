{
 "cells": [
  {
   "cell_type": "markdown",
   "metadata": {},
   "source": [
    "# Regression Exercise \n",
    "\n",
    "California Housing Data\n",
    "\n",
    "This data set contains information about all the block groups in California from the 1990 Census. In this sample a block group on average includes 1425.5 individuals living in a geographically compact area. \n",
    "\n",
    "The task is to aproximate the median house value of each block from the values of the rest of the variables. \n",
    "\n",
    " It has been obtained from the LIACC repository. The original page where the data set can be found is: http://www.liaad.up.pt/~ltorgo/Regression/DataSets.html.\n",
    " "
   ]
  },
  {
   "cell_type": "markdown",
   "metadata": {
    "collapsed": true
   },
   "source": [
    "The Features:\n",
    " \n",
    "* housingMedianAge: continuous. \n",
    "* totalRooms: continuous. \n",
    "* totalBedrooms: continuous. \n",
    "* population: continuous. \n",
    "* households: continuous. \n",
    "* medianIncome: continuous. \n",
    "* medianHouseValue: continuous. "
   ]
  },
  {
   "cell_type": "markdown",
   "metadata": {},
   "source": [
    "## The Data"
   ]
  },
  {
   "cell_type": "markdown",
   "metadata": {},
   "source": [
    "** Import the cal_housing_clean.csv file with pandas. Separate it into a training (70%) and testing set(30%).**"
   ]
  },
  {
   "cell_type": "code",
   "execution_count": 1,
   "metadata": {
    "collapsed": true
   },
   "outputs": [],
   "source": [
    "import pandas as pd"
   ]
  },
  {
   "cell_type": "code",
   "execution_count": 2,
   "metadata": {
    "collapsed": true
   },
   "outputs": [],
   "source": [
    "housing = pd.read_csv('cal_housing_clean.csv')"
   ]
  },
  {
   "cell_type": "code",
   "execution_count": 3,
   "metadata": {},
   "outputs": [
    {
     "data": {
      "text/html": [
       "<div>\n",
       "<style>\n",
       "    .dataframe thead tr:only-child th {\n",
       "        text-align: right;\n",
       "    }\n",
       "\n",
       "    .dataframe thead th {\n",
       "        text-align: left;\n",
       "    }\n",
       "\n",
       "    .dataframe tbody tr th {\n",
       "        vertical-align: top;\n",
       "    }\n",
       "</style>\n",
       "<table border=\"1\" class=\"dataframe\">\n",
       "  <thead>\n",
       "    <tr style=\"text-align: right;\">\n",
       "      <th></th>\n",
       "      <th>housingMedianAge</th>\n",
       "      <th>totalRooms</th>\n",
       "      <th>totalBedrooms</th>\n",
       "      <th>population</th>\n",
       "      <th>households</th>\n",
       "      <th>medianIncome</th>\n",
       "      <th>medianHouseValue</th>\n",
       "    </tr>\n",
       "  </thead>\n",
       "  <tbody>\n",
       "    <tr>\n",
       "      <th>0</th>\n",
       "      <td>41.0</td>\n",
       "      <td>880.0</td>\n",
       "      <td>129.0</td>\n",
       "      <td>322.0</td>\n",
       "      <td>126.0</td>\n",
       "      <td>8.3252</td>\n",
       "      <td>452600.0</td>\n",
       "    </tr>\n",
       "    <tr>\n",
       "      <th>1</th>\n",
       "      <td>21.0</td>\n",
       "      <td>7099.0</td>\n",
       "      <td>1106.0</td>\n",
       "      <td>2401.0</td>\n",
       "      <td>1138.0</td>\n",
       "      <td>8.3014</td>\n",
       "      <td>358500.0</td>\n",
       "    </tr>\n",
       "    <tr>\n",
       "      <th>2</th>\n",
       "      <td>52.0</td>\n",
       "      <td>1467.0</td>\n",
       "      <td>190.0</td>\n",
       "      <td>496.0</td>\n",
       "      <td>177.0</td>\n",
       "      <td>7.2574</td>\n",
       "      <td>352100.0</td>\n",
       "    </tr>\n",
       "    <tr>\n",
       "      <th>3</th>\n",
       "      <td>52.0</td>\n",
       "      <td>1274.0</td>\n",
       "      <td>235.0</td>\n",
       "      <td>558.0</td>\n",
       "      <td>219.0</td>\n",
       "      <td>5.6431</td>\n",
       "      <td>341300.0</td>\n",
       "    </tr>\n",
       "    <tr>\n",
       "      <th>4</th>\n",
       "      <td>52.0</td>\n",
       "      <td>1627.0</td>\n",
       "      <td>280.0</td>\n",
       "      <td>565.0</td>\n",
       "      <td>259.0</td>\n",
       "      <td>3.8462</td>\n",
       "      <td>342200.0</td>\n",
       "    </tr>\n",
       "  </tbody>\n",
       "</table>\n",
       "</div>"
      ],
      "text/plain": [
       "   housingMedianAge  totalRooms  totalBedrooms  population  households  \\\n",
       "0              41.0       880.0          129.0       322.0       126.0   \n",
       "1              21.0      7099.0         1106.0      2401.0      1138.0   \n",
       "2              52.0      1467.0          190.0       496.0       177.0   \n",
       "3              52.0      1274.0          235.0       558.0       219.0   \n",
       "4              52.0      1627.0          280.0       565.0       259.0   \n",
       "\n",
       "   medianIncome  medianHouseValue  \n",
       "0        8.3252          452600.0  \n",
       "1        8.3014          358500.0  \n",
       "2        7.2574          352100.0  \n",
       "3        5.6431          341300.0  \n",
       "4        3.8462          342200.0  "
      ]
     },
     "execution_count": 3,
     "metadata": {},
     "output_type": "execute_result"
    }
   ],
   "source": [
    "housing.head()"
   ]
  },
  {
   "cell_type": "code",
   "execution_count": 4,
   "metadata": {},
   "outputs": [
    {
     "data": {
      "text/html": [
       "<div>\n",
       "<style>\n",
       "    .dataframe thead tr:only-child th {\n",
       "        text-align: right;\n",
       "    }\n",
       "\n",
       "    .dataframe thead th {\n",
       "        text-align: left;\n",
       "    }\n",
       "\n",
       "    .dataframe tbody tr th {\n",
       "        vertical-align: top;\n",
       "    }\n",
       "</style>\n",
       "<table border=\"1\" class=\"dataframe\">\n",
       "  <thead>\n",
       "    <tr style=\"text-align: right;\">\n",
       "      <th></th>\n",
       "      <th>count</th>\n",
       "      <th>mean</th>\n",
       "      <th>std</th>\n",
       "      <th>min</th>\n",
       "      <th>25%</th>\n",
       "      <th>50%</th>\n",
       "      <th>75%</th>\n",
       "      <th>max</th>\n",
       "    </tr>\n",
       "  </thead>\n",
       "  <tbody>\n",
       "    <tr>\n",
       "      <th>housingMedianAge</th>\n",
       "      <td>20640.0</td>\n",
       "      <td>28.639486</td>\n",
       "      <td>12.585558</td>\n",
       "      <td>1.0000</td>\n",
       "      <td>18.0000</td>\n",
       "      <td>29.0000</td>\n",
       "      <td>37.00000</td>\n",
       "      <td>52.0000</td>\n",
       "    </tr>\n",
       "    <tr>\n",
       "      <th>totalRooms</th>\n",
       "      <td>20640.0</td>\n",
       "      <td>2635.763081</td>\n",
       "      <td>2181.615252</td>\n",
       "      <td>2.0000</td>\n",
       "      <td>1447.7500</td>\n",
       "      <td>2127.0000</td>\n",
       "      <td>3148.00000</td>\n",
       "      <td>39320.0000</td>\n",
       "    </tr>\n",
       "    <tr>\n",
       "      <th>totalBedrooms</th>\n",
       "      <td>20640.0</td>\n",
       "      <td>537.898014</td>\n",
       "      <td>421.247906</td>\n",
       "      <td>1.0000</td>\n",
       "      <td>295.0000</td>\n",
       "      <td>435.0000</td>\n",
       "      <td>647.00000</td>\n",
       "      <td>6445.0000</td>\n",
       "    </tr>\n",
       "    <tr>\n",
       "      <th>population</th>\n",
       "      <td>20640.0</td>\n",
       "      <td>1425.476744</td>\n",
       "      <td>1132.462122</td>\n",
       "      <td>3.0000</td>\n",
       "      <td>787.0000</td>\n",
       "      <td>1166.0000</td>\n",
       "      <td>1725.00000</td>\n",
       "      <td>35682.0000</td>\n",
       "    </tr>\n",
       "    <tr>\n",
       "      <th>households</th>\n",
       "      <td>20640.0</td>\n",
       "      <td>499.539680</td>\n",
       "      <td>382.329753</td>\n",
       "      <td>1.0000</td>\n",
       "      <td>280.0000</td>\n",
       "      <td>409.0000</td>\n",
       "      <td>605.00000</td>\n",
       "      <td>6082.0000</td>\n",
       "    </tr>\n",
       "    <tr>\n",
       "      <th>medianIncome</th>\n",
       "      <td>20640.0</td>\n",
       "      <td>3.870671</td>\n",
       "      <td>1.899822</td>\n",
       "      <td>0.4999</td>\n",
       "      <td>2.5634</td>\n",
       "      <td>3.5348</td>\n",
       "      <td>4.74325</td>\n",
       "      <td>15.0001</td>\n",
       "    </tr>\n",
       "    <tr>\n",
       "      <th>medianHouseValue</th>\n",
       "      <td>20640.0</td>\n",
       "      <td>206855.816909</td>\n",
       "      <td>115395.615874</td>\n",
       "      <td>14999.0000</td>\n",
       "      <td>119600.0000</td>\n",
       "      <td>179700.0000</td>\n",
       "      <td>264725.00000</td>\n",
       "      <td>500001.0000</td>\n",
       "    </tr>\n",
       "  </tbody>\n",
       "</table>\n",
       "</div>"
      ],
      "text/plain": [
       "                    count           mean            std         min  \\\n",
       "housingMedianAge  20640.0      28.639486      12.585558      1.0000   \n",
       "totalRooms        20640.0    2635.763081    2181.615252      2.0000   \n",
       "totalBedrooms     20640.0     537.898014     421.247906      1.0000   \n",
       "population        20640.0    1425.476744    1132.462122      3.0000   \n",
       "households        20640.0     499.539680     382.329753      1.0000   \n",
       "medianIncome      20640.0       3.870671       1.899822      0.4999   \n",
       "medianHouseValue  20640.0  206855.816909  115395.615874  14999.0000   \n",
       "\n",
       "                          25%          50%           75%          max  \n",
       "housingMedianAge      18.0000      29.0000      37.00000      52.0000  \n",
       "totalRooms          1447.7500    2127.0000    3148.00000   39320.0000  \n",
       "totalBedrooms        295.0000     435.0000     647.00000    6445.0000  \n",
       "population           787.0000    1166.0000    1725.00000   35682.0000  \n",
       "households           280.0000     409.0000     605.00000    6082.0000  \n",
       "medianIncome           2.5634       3.5348       4.74325      15.0001  \n",
       "medianHouseValue  119600.0000  179700.0000  264725.00000  500001.0000  "
      ]
     },
     "execution_count": 4,
     "metadata": {},
     "output_type": "execute_result"
    }
   ],
   "source": [
    "housing.describe().transpose()"
   ]
  },
  {
   "cell_type": "code",
   "execution_count": 5,
   "metadata": {
    "collapsed": true,
    "scrolled": true
   },
   "outputs": [],
   "source": [
    "x_data = housing.drop(['medianHouseValue'],axis = 1)"
   ]
  },
  {
   "cell_type": "code",
   "execution_count": 6,
   "metadata": {
    "collapsed": true
   },
   "outputs": [],
   "source": [
    "y_data = housing['medianHouseValue']"
   ]
  },
  {
   "cell_type": "code",
   "execution_count": 7,
   "metadata": {
    "collapsed": true
   },
   "outputs": [],
   "source": [
    "from sklearn.model_selection import train_test_split"
   ]
  },
  {
   "cell_type": "code",
   "execution_count": 8,
   "metadata": {
    "collapsed": true
   },
   "outputs": [],
   "source": [
    "X_train, X_test, y_train, y_test = train_test_split(x_data,y_data,test_size=0.3,random_state=101)"
   ]
  },
  {
   "cell_type": "markdown",
   "metadata": {},
   "source": [
    "### Scale the Feature Data\n",
    "\n",
    "** Use sklearn preprocessing to create a MinMaxScaler for the feature data. Fit this scaler only to the training data. Then use it to transform X_test and X_train. Then use the scaled X_test and X_train along with pd.Dataframe to re-create two dataframes of scaled data.**"
   ]
  },
  {
   "cell_type": "code",
   "execution_count": 9,
   "metadata": {
    "collapsed": true
   },
   "outputs": [],
   "source": [
    "from sklearn.preprocessing import MinMaxScaler"
   ]
  },
  {
   "cell_type": "code",
   "execution_count": 10,
   "metadata": {
    "collapsed": true
   },
   "outputs": [],
   "source": [
    "scaler = MinMaxScaler()"
   ]
  },
  {
   "cell_type": "code",
   "execution_count": 11,
   "metadata": {},
   "outputs": [
    {
     "data": {
      "text/plain": [
       "MinMaxScaler(copy=True, feature_range=(0, 1))"
      ]
     },
     "execution_count": 11,
     "metadata": {},
     "output_type": "execute_result"
    }
   ],
   "source": [
    "scaler.fit(X_train)"
   ]
  },
  {
   "cell_type": "code",
   "execution_count": 12,
   "metadata": {
    "collapsed": true
   },
   "outputs": [],
   "source": [
    "X_train = pd.DataFrame(data=scaler.transform(X_train), columns = X_train.columns, index = X_train.index)"
   ]
  },
  {
   "cell_type": "code",
   "execution_count": 13,
   "metadata": {
    "collapsed": true
   },
   "outputs": [],
   "source": [
    "X_test = pd.DataFrame(data=scaler.transform(X_test), columns = X_test.columns, index = X_test.index)"
   ]
  },
  {
   "cell_type": "markdown",
   "metadata": {},
   "source": [
    "### Create Feature Columns\n",
    "\n",
    "** Create the necessary tf.feature_column objects for the estimator. They should all be trated as continuous numeric_columns. **"
   ]
  },
  {
   "cell_type": "code",
   "execution_count": 14,
   "metadata": {},
   "outputs": [
    {
     "data": {
      "text/plain": [
       "Index(['housingMedianAge', 'totalRooms', 'totalBedrooms', 'population',\n",
       "       'households', 'medianIncome', 'medianHouseValue'],\n",
       "      dtype='object')"
      ]
     },
     "execution_count": 14,
     "metadata": {},
     "output_type": "execute_result"
    }
   ],
   "source": [
    "housing.columns"
   ]
  },
  {
   "cell_type": "code",
   "execution_count": 15,
   "metadata": {
    "collapsed": true
   },
   "outputs": [],
   "source": [
    "import tensorflow as tf"
   ]
  },
  {
   "cell_type": "code",
   "execution_count": 16,
   "metadata": {
    "collapsed": true
   },
   "outputs": [],
   "source": [
    "med_house_age = tf.feature_column.numeric_column('housingMedianAge')\n",
    "total_rooms = tf.feature_column.numeric_column('totalRooms')\n",
    "total_bedrooms = tf.feature_column.numeric_column('totalBedrooms')\n",
    "population = tf.feature_column.numeric_column('population')\n",
    "households = tf.feature_column.numeric_column('households')\n",
    "median_income = tf.feature_column.numeric_column('medianIncome')"
   ]
  },
  {
   "cell_type": "code",
   "execution_count": 17,
   "metadata": {
    "collapsed": true
   },
   "outputs": [],
   "source": [
    "feat_cols = [med_house_age,total_rooms,total_bedrooms,population, households, median_income]"
   ]
  },
  {
   "cell_type": "markdown",
   "metadata": {},
   "source": [
    "** Create the input function for the estimator object. (play around with batch_size and num_epochs)**"
   ]
  },
  {
   "cell_type": "code",
   "execution_count": 21,
   "metadata": {
    "collapsed": true
   },
   "outputs": [],
   "source": [
    "input_func = tf.estimator.inputs.pandas_input_fn(x=X_train, y = y_train, batch_size=10, num_epochs=1000,shuffle=True)"
   ]
  },
  {
   "cell_type": "markdown",
   "metadata": {},
   "source": [
    "** Create the estimator model. Use a DNNRegressor. Play around with the hidden units! **"
   ]
  },
  {
   "cell_type": "code",
   "execution_count": 34,
   "metadata": {},
   "outputs": [
    {
     "name": "stdout",
     "output_type": "stream",
     "text": [
      "INFO:tensorflow:Using default config.\n",
      "WARNING:tensorflow:Using temporary folder as model directory: /var/folders/zz/zyxvpxvq6csfxvn_n0002d4m000l95/T/tmp7b5xfrnd\n",
      "INFO:tensorflow:Using config: {'_save_checkpoints_secs': 600, '_keep_checkpoint_every_n_hours': 10000, '_tf_random_seed': 1, '_save_checkpoints_steps': None, '_model_dir': '/var/folders/zz/zyxvpxvq6csfxvn_n0002d4m000l95/T/tmp7b5xfrnd', '_keep_checkpoint_max': 5, '_session_config': None, '_save_summary_steps': 100, '_log_step_count_steps': 100}\n"
     ]
    }
   ],
   "source": [
    "dnn_model = tf.estimator.DNNRegressor(hidden_units = [10,10,10, 10, 10], feature_columns=feat_cols)"
   ]
  },
  {
   "cell_type": "markdown",
   "metadata": {},
   "source": [
    "##### ** Train the model for ~1,000 steps. (Later come back to this and train it for more and check for improvement) **"
   ]
  },
  {
   "cell_type": "code",
   "execution_count": null,
   "metadata": {
    "scrolled": true
   },
   "outputs": [
    {
     "name": "stdout",
     "output_type": "stream",
     "text": [
      "INFO:tensorflow:Create CheckpointSaverHook.\n",
      "INFO:tensorflow:Saving checkpoints for 1 into /var/folders/zz/zyxvpxvq6csfxvn_n0002d4m000l95/T/tmp7b5xfrnd/model.ckpt.\n",
      "INFO:tensorflow:step = 1, loss = 4.8845e+11\n",
      "INFO:tensorflow:global_step/sec: 503.56\n",
      "INFO:tensorflow:step = 101, loss = 1.50604e+11 (0.199 sec)\n",
      "INFO:tensorflow:global_step/sec: 521.687\n",
      "INFO:tensorflow:step = 201, loss = 2.8347e+11 (0.192 sec)\n",
      "INFO:tensorflow:global_step/sec: 480.707\n",
      "INFO:tensorflow:step = 301, loss = 7.36425e+10 (0.208 sec)\n",
      "INFO:tensorflow:global_step/sec: 559.553\n",
      "INFO:tensorflow:step = 401, loss = 2.13937e+11 (0.181 sec)\n",
      "INFO:tensorflow:global_step/sec: 535.78\n",
      "INFO:tensorflow:step = 501, loss = 8.54048e+10 (0.188 sec)\n",
      "INFO:tensorflow:global_step/sec: 539.365\n",
      "INFO:tensorflow:step = 601, loss = 1.93289e+11 (0.184 sec)\n",
      "INFO:tensorflow:global_step/sec: 488.646\n",
      "INFO:tensorflow:step = 701, loss = 1.47705e+11 (0.207 sec)\n",
      "INFO:tensorflow:global_step/sec: 509.409\n",
      "INFO:tensorflow:step = 801, loss = 1.72965e+11 (0.194 sec)\n",
      "INFO:tensorflow:global_step/sec: 537.805\n",
      "INFO:tensorflow:step = 901, loss = 1.07884e+11 (0.186 sec)\n",
      "INFO:tensorflow:global_step/sec: 522.799\n",
      "INFO:tensorflow:step = 1001, loss = 9.84162e+10 (0.191 sec)\n",
      "INFO:tensorflow:global_step/sec: 472.407\n",
      "INFO:tensorflow:step = 1101, loss = 1.53781e+11 (0.209 sec)\n",
      "INFO:tensorflow:global_step/sec: 598.617\n",
      "INFO:tensorflow:step = 1201, loss = 6.61836e+10 (0.170 sec)\n",
      "INFO:tensorflow:global_step/sec: 529.33\n",
      "INFO:tensorflow:step = 1301, loss = 7.08741e+10 (0.189 sec)\n",
      "INFO:tensorflow:global_step/sec: 605.907\n",
      "INFO:tensorflow:step = 1401, loss = 1.24203e+11 (0.164 sec)\n",
      "INFO:tensorflow:global_step/sec: 632.731\n",
      "INFO:tensorflow:step = 1501, loss = 4.91797e+10 (0.160 sec)\n",
      "INFO:tensorflow:global_step/sec: 618.598\n",
      "INFO:tensorflow:step = 1601, loss = 8.71482e+10 (0.160 sec)\n",
      "INFO:tensorflow:global_step/sec: 563.018\n",
      "INFO:tensorflow:step = 1701, loss = 6.84136e+10 (0.176 sec)\n",
      "INFO:tensorflow:global_step/sec: 556.647\n",
      "INFO:tensorflow:step = 1801, loss = 8.85957e+10 (0.180 sec)\n",
      "INFO:tensorflow:global_step/sec: 567.473\n",
      "INFO:tensorflow:step = 1901, loss = 6.05399e+10 (0.178 sec)\n",
      "INFO:tensorflow:global_step/sec: 576.641\n",
      "INFO:tensorflow:step = 2001, loss = 7.40052e+10 (0.173 sec)\n",
      "INFO:tensorflow:global_step/sec: 603.1\n",
      "INFO:tensorflow:step = 2101, loss = 5.62666e+10 (0.168 sec)\n",
      "INFO:tensorflow:global_step/sec: 524.714\n",
      "INFO:tensorflow:step = 2201, loss = 4.90371e+10 (0.190 sec)\n",
      "INFO:tensorflow:global_step/sec: 600.096\n",
      "INFO:tensorflow:step = 2301, loss = 7.44565e+10 (0.166 sec)\n",
      "INFO:tensorflow:global_step/sec: 587.299\n",
      "INFO:tensorflow:step = 2401, loss = 5.84419e+10 (0.170 sec)\n",
      "INFO:tensorflow:global_step/sec: 568.302\n",
      "INFO:tensorflow:step = 2501, loss = 7.79906e+10 (0.176 sec)\n",
      "INFO:tensorflow:global_step/sec: 567.692\n",
      "INFO:tensorflow:step = 2601, loss = 3.06298e+10 (0.175 sec)\n",
      "INFO:tensorflow:global_step/sec: 589.254\n",
      "INFO:tensorflow:step = 2701, loss = 6.14682e+10 (0.168 sec)\n",
      "INFO:tensorflow:global_step/sec: 540.328\n",
      "INFO:tensorflow:step = 2801, loss = 2.58966e+10 (0.186 sec)\n",
      "INFO:tensorflow:global_step/sec: 544.885\n",
      "INFO:tensorflow:step = 2901, loss = 3.49503e+10 (0.183 sec)\n",
      "INFO:tensorflow:global_step/sec: 609.529\n",
      "INFO:tensorflow:step = 3001, loss = 8.65249e+10 (0.168 sec)\n",
      "INFO:tensorflow:global_step/sec: 548.622\n",
      "INFO:tensorflow:step = 3101, loss = 3.06022e+10 (0.182 sec)\n",
      "INFO:tensorflow:global_step/sec: 548.032\n",
      "INFO:tensorflow:step = 3201, loss = 7.39685e+10 (0.182 sec)\n",
      "INFO:tensorflow:global_step/sec: 528.631\n",
      "INFO:tensorflow:step = 3301, loss = 7.83804e+10 (0.187 sec)\n",
      "INFO:tensorflow:global_step/sec: 607.618\n",
      "INFO:tensorflow:step = 3401, loss = 4.59786e+10 (0.166 sec)\n",
      "INFO:tensorflow:global_step/sec: 542.67\n",
      "INFO:tensorflow:step = 3501, loss = 4.71896e+10 (0.184 sec)\n",
      "INFO:tensorflow:global_step/sec: 522.327\n",
      "INFO:tensorflow:step = 3601, loss = 4.23071e+10 (0.191 sec)\n",
      "INFO:tensorflow:global_step/sec: 551.696\n",
      "INFO:tensorflow:step = 3701, loss = 4.06923e+10 (0.182 sec)\n",
      "INFO:tensorflow:global_step/sec: 584.611\n",
      "INFO:tensorflow:step = 3801, loss = 2.56486e+10 (0.171 sec)\n",
      "INFO:tensorflow:global_step/sec: 544.549\n",
      "INFO:tensorflow:step = 3901, loss = 6.28476e+10 (0.184 sec)\n",
      "INFO:tensorflow:global_step/sec: 585.549\n",
      "INFO:tensorflow:step = 4001, loss = 5.66052e+10 (0.171 sec)\n",
      "INFO:tensorflow:global_step/sec: 530.862\n",
      "INFO:tensorflow:step = 4101, loss = 3.75813e+10 (0.188 sec)\n",
      "INFO:tensorflow:global_step/sec: 569.703\n",
      "INFO:tensorflow:step = 4201, loss = 2.79725e+10 (0.175 sec)\n",
      "INFO:tensorflow:global_step/sec: 630.243\n",
      "INFO:tensorflow:step = 4301, loss = 6.32139e+10 (0.160 sec)\n",
      "INFO:tensorflow:global_step/sec: 534.714\n",
      "INFO:tensorflow:step = 4401, loss = 6.60913e+10 (0.188 sec)\n",
      "INFO:tensorflow:global_step/sec: 525.31\n",
      "INFO:tensorflow:step = 4501, loss = 4.85266e+10 (0.189 sec)\n",
      "INFO:tensorflow:global_step/sec: 582.533\n",
      "INFO:tensorflow:step = 4601, loss = 2.59451e+10 (0.172 sec)\n",
      "INFO:tensorflow:global_step/sec: 589.088\n",
      "INFO:tensorflow:step = 4701, loss = 3.03199e+10 (0.171 sec)\n",
      "INFO:tensorflow:global_step/sec: 538.639\n",
      "INFO:tensorflow:step = 4801, loss = 3.01365e+11 (0.185 sec)\n",
      "INFO:tensorflow:global_step/sec: 563.367\n",
      "INFO:tensorflow:step = 4901, loss = 8.95185e+10 (0.177 sec)\n",
      "INFO:tensorflow:global_step/sec: 616.892\n",
      "INFO:tensorflow:step = 5001, loss = 7.92843e+10 (0.161 sec)\n",
      "INFO:tensorflow:global_step/sec: 553.667\n",
      "INFO:tensorflow:step = 5101, loss = 2.70653e+10 (0.182 sec)\n",
      "INFO:tensorflow:global_step/sec: 561.432\n",
      "INFO:tensorflow:step = 5201, loss = 1.2111e+10 (0.178 sec)\n",
      "INFO:tensorflow:global_step/sec: 522.586\n",
      "INFO:tensorflow:step = 5301, loss = 3.19154e+10 (0.191 sec)\n",
      "INFO:tensorflow:global_step/sec: 551.919\n",
      "INFO:tensorflow:step = 5401, loss = 2.26159e+10 (0.180 sec)\n",
      "INFO:tensorflow:global_step/sec: 530.079\n",
      "INFO:tensorflow:step = 5501, loss = 8.01657e+10 (0.189 sec)\n",
      "INFO:tensorflow:global_step/sec: 544.256\n",
      "INFO:tensorflow:step = 5601, loss = 4.78163e+10 (0.182 sec)\n",
      "INFO:tensorflow:global_step/sec: 576.897\n",
      "INFO:tensorflow:step = 5701, loss = 2.8452e+10 (0.175 sec)\n",
      "INFO:tensorflow:global_step/sec: 579.345\n",
      "INFO:tensorflow:step = 5801, loss = 5.42026e+10 (0.172 sec)\n",
      "INFO:tensorflow:global_step/sec: 610.202\n",
      "INFO:tensorflow:step = 5901, loss = 4.83203e+10 (0.164 sec)\n",
      "INFO:tensorflow:global_step/sec: 614.594\n",
      "INFO:tensorflow:step = 6001, loss = 1.12939e+11 (0.162 sec)\n",
      "INFO:tensorflow:global_step/sec: 527.054\n",
      "INFO:tensorflow:step = 6101, loss = 1.016e+11 (0.187 sec)\n",
      "INFO:tensorflow:global_step/sec: 542.582\n",
      "INFO:tensorflow:step = 6201, loss = 3.03904e+10 (0.184 sec)\n",
      "INFO:tensorflow:global_step/sec: 528.332\n",
      "INFO:tensorflow:step = 6301, loss = 4.31512e+10 (0.190 sec)\n",
      "INFO:tensorflow:global_step/sec: 534.98\n",
      "INFO:tensorflow:step = 6401, loss = 4.32803e+10 (0.187 sec)\n",
      "INFO:tensorflow:global_step/sec: 531.964\n",
      "INFO:tensorflow:step = 6501, loss = 3.30749e+10 (0.188 sec)\n",
      "INFO:tensorflow:global_step/sec: 546.296\n",
      "INFO:tensorflow:step = 6601, loss = 5.49785e+10 (0.183 sec)\n",
      "INFO:tensorflow:global_step/sec: 633.798\n",
      "INFO:tensorflow:step = 6701, loss = 7.14494e+10 (0.159 sec)\n",
      "INFO:tensorflow:global_step/sec: 547.469\n",
      "INFO:tensorflow:step = 6801, loss = 2.85148e+10 (0.182 sec)\n",
      "INFO:tensorflow:global_step/sec: 586.789\n",
      "INFO:tensorflow:step = 6901, loss = 1.0608e+11 (0.172 sec)\n",
      "INFO:tensorflow:global_step/sec: 543.295\n",
      "INFO:tensorflow:step = 7001, loss = 8.66231e+10 (0.184 sec)\n",
      "INFO:tensorflow:global_step/sec: 538.254\n",
      "INFO:tensorflow:step = 7101, loss = 4.33698e+10 (0.186 sec)\n",
      "INFO:tensorflow:global_step/sec: 572.54\n",
      "INFO:tensorflow:step = 7201, loss = 6.31244e+10 (0.176 sec)\n",
      "INFO:tensorflow:global_step/sec: 515.56\n",
      "INFO:tensorflow:step = 7301, loss = 5.53495e+10 (0.194 sec)\n",
      "INFO:tensorflow:global_step/sec: 557.853\n",
      "INFO:tensorflow:step = 7401, loss = 4.9012e+10 (0.179 sec)\n",
      "INFO:tensorflow:global_step/sec: 591.594\n",
      "INFO:tensorflow:step = 7501, loss = 3.38801e+10 (0.169 sec)\n",
      "INFO:tensorflow:global_step/sec: 557.787\n",
      "INFO:tensorflow:step = 7601, loss = 1.01663e+11 (0.181 sec)\n",
      "INFO:tensorflow:global_step/sec: 574.732\n",
      "INFO:tensorflow:step = 7701, loss = 4.92739e+10 (0.174 sec)\n",
      "INFO:tensorflow:global_step/sec: 513.933\n",
      "INFO:tensorflow:step = 7801, loss = 4.06213e+10 (0.193 sec)\n",
      "INFO:tensorflow:global_step/sec: 585.185\n",
      "INFO:tensorflow:step = 7901, loss = 2.09129e+11 (0.171 sec)\n",
      "INFO:tensorflow:global_step/sec: 562.198\n"
     ]
    },
    {
     "name": "stdout",
     "output_type": "stream",
     "text": [
      "INFO:tensorflow:step = 8001, loss = 2.38802e+10 (0.178 sec)\n",
      "INFO:tensorflow:global_step/sec: 535.091\n",
      "INFO:tensorflow:step = 8101, loss = 5.5238e+10 (0.186 sec)\n",
      "INFO:tensorflow:global_step/sec: 566.216\n",
      "INFO:tensorflow:step = 8201, loss = 5.53945e+10 (0.176 sec)\n",
      "INFO:tensorflow:global_step/sec: 639.685\n",
      "INFO:tensorflow:step = 8301, loss = 5.86064e+10 (0.156 sec)\n",
      "INFO:tensorflow:global_step/sec: 575.865\n",
      "INFO:tensorflow:step = 8401, loss = 9.51377e+10 (0.176 sec)\n",
      "INFO:tensorflow:global_step/sec: 622.781\n",
      "INFO:tensorflow:step = 8501, loss = 3.5214e+10 (0.161 sec)\n",
      "INFO:tensorflow:global_step/sec: 651.883\n",
      "INFO:tensorflow:step = 8601, loss = 6.16562e+10 (0.150 sec)\n",
      "INFO:tensorflow:global_step/sec: 528.787\n",
      "INFO:tensorflow:step = 8701, loss = 4.75962e+10 (0.188 sec)\n",
      "INFO:tensorflow:global_step/sec: 539.194\n",
      "INFO:tensorflow:step = 8801, loss = 4.12877e+10 (0.186 sec)\n",
      "INFO:tensorflow:global_step/sec: 554.881\n",
      "INFO:tensorflow:step = 8901, loss = 6.02875e+10 (0.181 sec)\n",
      "INFO:tensorflow:global_step/sec: 501.819\n",
      "INFO:tensorflow:step = 9001, loss = 1.99248e+10 (0.200 sec)\n",
      "INFO:tensorflow:global_step/sec: 571.204\n",
      "INFO:tensorflow:step = 9101, loss = 7.21785e+10 (0.175 sec)\n",
      "INFO:tensorflow:global_step/sec: 560.243\n",
      "INFO:tensorflow:step = 9201, loss = 7.18957e+10 (0.176 sec)\n",
      "INFO:tensorflow:global_step/sec: 558.959\n",
      "INFO:tensorflow:step = 9301, loss = 3.54372e+10 (0.180 sec)\n",
      "INFO:tensorflow:global_step/sec: 433.044\n",
      "INFO:tensorflow:step = 9401, loss = 8.89834e+10 (0.235 sec)\n",
      "INFO:tensorflow:global_step/sec: 363.102\n",
      "INFO:tensorflow:step = 9501, loss = 1.01192e+11 (0.273 sec)\n",
      "INFO:tensorflow:global_step/sec: 476.688\n",
      "INFO:tensorflow:step = 9601, loss = 1.17346e+11 (0.211 sec)\n",
      "INFO:tensorflow:global_step/sec: 400.943\n",
      "INFO:tensorflow:step = 9701, loss = 1.34086e+11 (0.251 sec)\n",
      "INFO:tensorflow:global_step/sec: 414.819\n",
      "INFO:tensorflow:step = 9801, loss = 6.50745e+10 (0.239 sec)\n",
      "INFO:tensorflow:global_step/sec: 446.856\n",
      "INFO:tensorflow:step = 9901, loss = 6.88917e+10 (0.223 sec)\n",
      "INFO:tensorflow:global_step/sec: 452.796\n",
      "INFO:tensorflow:step = 10001, loss = 9.53262e+10 (0.220 sec)\n",
      "INFO:tensorflow:global_step/sec: 413.044\n",
      "INFO:tensorflow:step = 10101, loss = 6.18573e+10 (0.243 sec)\n",
      "INFO:tensorflow:global_step/sec: 429.275\n",
      "INFO:tensorflow:step = 10201, loss = 8.52688e+09 (0.235 sec)\n",
      "INFO:tensorflow:global_step/sec: 451.09\n",
      "INFO:tensorflow:step = 10301, loss = 2.12734e+10 (0.223 sec)\n",
      "INFO:tensorflow:global_step/sec: 404.287\n",
      "INFO:tensorflow:step = 10401, loss = 3.64525e+10 (0.244 sec)\n",
      "INFO:tensorflow:global_step/sec: 450.818\n",
      "INFO:tensorflow:step = 10501, loss = 2.87314e+11 (0.223 sec)\n",
      "INFO:tensorflow:global_step/sec: 437.445\n",
      "INFO:tensorflow:step = 10601, loss = 1.48595e+11 (0.228 sec)\n",
      "INFO:tensorflow:global_step/sec: 482.709\n",
      "INFO:tensorflow:step = 10701, loss = 6.78365e+10 (0.208 sec)\n",
      "INFO:tensorflow:global_step/sec: 473.31\n",
      "INFO:tensorflow:step = 10801, loss = 5.22795e+10 (0.207 sec)\n",
      "INFO:tensorflow:global_step/sec: 455.09\n",
      "INFO:tensorflow:step = 10901, loss = 5.56967e+10 (0.221 sec)\n",
      "INFO:tensorflow:global_step/sec: 320.694\n",
      "INFO:tensorflow:step = 11001, loss = 5.10255e+10 (0.314 sec)\n",
      "INFO:tensorflow:global_step/sec: 464.613\n",
      "INFO:tensorflow:step = 11101, loss = 8.48408e+10 (0.216 sec)\n",
      "INFO:tensorflow:global_step/sec: 382.998\n",
      "INFO:tensorflow:step = 11201, loss = 9.05361e+10 (0.259 sec)\n",
      "INFO:tensorflow:global_step/sec: 427.902\n",
      "INFO:tensorflow:step = 11301, loss = 4.05188e+10 (0.234 sec)\n",
      "INFO:tensorflow:global_step/sec: 444.807\n",
      "INFO:tensorflow:step = 11401, loss = 3.86838e+10 (0.224 sec)\n",
      "INFO:tensorflow:global_step/sec: 453.231\n",
      "INFO:tensorflow:step = 11501, loss = 4.90032e+10 (0.220 sec)\n",
      "INFO:tensorflow:global_step/sec: 428.243\n",
      "INFO:tensorflow:step = 11601, loss = 7.61233e+10 (0.236 sec)\n",
      "INFO:tensorflow:global_step/sec: 512.519\n",
      "INFO:tensorflow:step = 11701, loss = 5.5328e+10 (0.196 sec)\n",
      "INFO:tensorflow:global_step/sec: 443.785\n",
      "INFO:tensorflow:step = 11801, loss = 3.25117e+10 (0.224 sec)\n",
      "INFO:tensorflow:global_step/sec: 453.482\n",
      "INFO:tensorflow:step = 11901, loss = 3.85884e+10 (0.219 sec)\n",
      "INFO:tensorflow:global_step/sec: 478.391\n",
      "INFO:tensorflow:step = 12001, loss = 1.38361e+11 (0.209 sec)\n",
      "INFO:tensorflow:global_step/sec: 475.278\n",
      "INFO:tensorflow:step = 12101, loss = 4.17077e+10 (0.210 sec)\n",
      "INFO:tensorflow:global_step/sec: 474.462\n",
      "INFO:tensorflow:step = 12201, loss = 6.07094e+10 (0.210 sec)\n",
      "INFO:tensorflow:global_step/sec: 576.478\n",
      "INFO:tensorflow:step = 12301, loss = 2.65714e+10 (0.174 sec)\n",
      "INFO:tensorflow:global_step/sec: 564.264\n",
      "INFO:tensorflow:step = 12401, loss = 2.285e+10 (0.177 sec)\n",
      "INFO:tensorflow:global_step/sec: 582.418\n",
      "INFO:tensorflow:step = 12501, loss = 6.9979e+10 (0.172 sec)\n",
      "INFO:tensorflow:global_step/sec: 503.857\n",
      "INFO:tensorflow:step = 12601, loss = 5.66603e+10 (0.198 sec)\n",
      "INFO:tensorflow:global_step/sec: 483.15\n",
      "INFO:tensorflow:step = 12701, loss = 3.00864e+10 (0.207 sec)\n",
      "INFO:tensorflow:global_step/sec: 513.548\n",
      "INFO:tensorflow:step = 12801, loss = 8.35236e+10 (0.195 sec)\n",
      "INFO:tensorflow:global_step/sec: 479.994\n",
      "INFO:tensorflow:step = 12901, loss = 5.8978e+10 (0.209 sec)\n",
      "INFO:tensorflow:global_step/sec: 521.029\n",
      "INFO:tensorflow:step = 13001, loss = 2.99378e+10 (0.192 sec)\n",
      "INFO:tensorflow:global_step/sec: 468.134\n",
      "INFO:tensorflow:step = 13101, loss = 8.69298e+10 (0.214 sec)\n",
      "INFO:tensorflow:global_step/sec: 527.627\n",
      "INFO:tensorflow:step = 13201, loss = 2.13407e+10 (0.188 sec)\n",
      "INFO:tensorflow:global_step/sec: 473.615\n",
      "INFO:tensorflow:step = 13301, loss = 2.36362e+10 (0.212 sec)\n",
      "INFO:tensorflow:global_step/sec: 423.024\n",
      "INFO:tensorflow:step = 13401, loss = 1.75262e+10 (0.238 sec)\n",
      "INFO:tensorflow:global_step/sec: 412.352\n",
      "INFO:tensorflow:step = 13501, loss = 2.17743e+10 (0.245 sec)\n",
      "INFO:tensorflow:global_step/sec: 507.875\n",
      "INFO:tensorflow:step = 13601, loss = 5.45414e+10 (0.196 sec)\n",
      "INFO:tensorflow:global_step/sec: 513.479\n",
      "INFO:tensorflow:step = 13701, loss = 1.27974e+10 (0.192 sec)\n",
      "INFO:tensorflow:global_step/sec: 525.817\n",
      "INFO:tensorflow:step = 13801, loss = 1.66931e+11 (0.190 sec)\n",
      "INFO:tensorflow:global_step/sec: 553.643\n",
      "INFO:tensorflow:step = 13901, loss = 1.62381e+11 (0.181 sec)\n",
      "INFO:tensorflow:global_step/sec: 537.028\n",
      "INFO:tensorflow:step = 14001, loss = 1.51717e+10 (0.186 sec)\n",
      "INFO:tensorflow:global_step/sec: 552.154\n",
      "INFO:tensorflow:step = 14101, loss = 9.5674e+10 (0.183 sec)\n",
      "INFO:tensorflow:global_step/sec: 513.465\n",
      "INFO:tensorflow:step = 14201, loss = 7.21315e+10 (0.194 sec)\n",
      "INFO:tensorflow:global_step/sec: 509.106\n",
      "INFO:tensorflow:step = 14301, loss = 7.46151e+10 (0.198 sec)\n",
      "INFO:tensorflow:global_step/sec: 497.777\n",
      "INFO:tensorflow:step = 14401, loss = 7.21226e+10 (0.206 sec)\n",
      "INFO:tensorflow:global_step/sec: 500.33\n",
      "INFO:tensorflow:step = 14501, loss = 8.38332e+10 (0.191 sec)\n",
      "INFO:tensorflow:global_step/sec: 530.752\n",
      "INFO:tensorflow:step = 14601, loss = 4.69376e+10 (0.189 sec)\n",
      "INFO:tensorflow:global_step/sec: 519.003\n",
      "INFO:tensorflow:step = 14701, loss = 2.21199e+10 (0.192 sec)\n",
      "INFO:tensorflow:global_step/sec: 489.91\n",
      "INFO:tensorflow:step = 14801, loss = 6.05419e+10 (0.206 sec)\n",
      "INFO:tensorflow:global_step/sec: 517.355\n",
      "INFO:tensorflow:step = 14901, loss = 3.68791e+10 (0.192 sec)\n",
      "INFO:tensorflow:global_step/sec: 551.359\n",
      "INFO:tensorflow:step = 15001, loss = 1.73327e+10 (0.190 sec)\n",
      "INFO:tensorflow:global_step/sec: 473.124\n",
      "INFO:tensorflow:step = 15101, loss = 6.86681e+10 (0.203 sec)\n",
      "INFO:tensorflow:global_step/sec: 557.047\n",
      "INFO:tensorflow:step = 15201, loss = 6.2406e+10 (0.181 sec)\n",
      "INFO:tensorflow:global_step/sec: 519.546\n",
      "INFO:tensorflow:step = 15301, loss = 1.60689e+11 (0.191 sec)\n",
      "INFO:tensorflow:global_step/sec: 486.062\n",
      "INFO:tensorflow:step = 15401, loss = 5.87973e+10 (0.209 sec)\n",
      "INFO:tensorflow:global_step/sec: 532.382\n",
      "INFO:tensorflow:step = 15501, loss = 8.04815e+10 (0.184 sec)\n",
      "INFO:tensorflow:global_step/sec: 512.689\n",
      "INFO:tensorflow:step = 15601, loss = 5.99405e+10 (0.199 sec)\n",
      "INFO:tensorflow:global_step/sec: 448.898\n",
      "INFO:tensorflow:step = 15701, loss = 8.48109e+10 (0.222 sec)\n",
      "INFO:tensorflow:global_step/sec: 530.119\n",
      "INFO:tensorflow:step = 15801, loss = 3.05057e+10 (0.187 sec)\n",
      "INFO:tensorflow:global_step/sec: 491.724\n",
      "INFO:tensorflow:step = 15901, loss = 5.20335e+10 (0.209 sec)\n",
      "INFO:tensorflow:global_step/sec: 478.137\n",
      "INFO:tensorflow:step = 16001, loss = 1.52098e+11 (0.204 sec)\n",
      "INFO:tensorflow:global_step/sec: 480.351\n"
     ]
    },
    {
     "name": "stdout",
     "output_type": "stream",
     "text": [
      "INFO:tensorflow:step = 16101, loss = 5.57429e+10 (0.210 sec)\n",
      "INFO:tensorflow:global_step/sec: 477.45\n",
      "INFO:tensorflow:step = 16201, loss = 2.15711e+10 (0.211 sec)\n",
      "INFO:tensorflow:global_step/sec: 476.724\n",
      "INFO:tensorflow:step = 16301, loss = 2.09584e+11 (0.208 sec)\n",
      "INFO:tensorflow:global_step/sec: 407.742\n",
      "INFO:tensorflow:step = 16401, loss = 9.62871e+10 (0.245 sec)\n",
      "INFO:tensorflow:global_step/sec: 473.2\n",
      "INFO:tensorflow:step = 16501, loss = 8.37567e+10 (0.210 sec)\n",
      "INFO:tensorflow:global_step/sec: 438.573\n",
      "INFO:tensorflow:step = 16601, loss = 7.14349e+10 (0.226 sec)\n",
      "INFO:tensorflow:global_step/sec: 501.872\n",
      "INFO:tensorflow:step = 16701, loss = 3.63716e+10 (0.202 sec)\n",
      "INFO:tensorflow:global_step/sec: 490.153\n",
      "INFO:tensorflow:step = 16801, loss = 1.00961e+10 (0.202 sec)\n",
      "INFO:tensorflow:global_step/sec: 537.921\n",
      "INFO:tensorflow:step = 16901, loss = 1.7589e+10 (0.187 sec)\n",
      "INFO:tensorflow:global_step/sec: 511.938\n",
      "INFO:tensorflow:step = 17001, loss = 4.99417e+10 (0.197 sec)\n",
      "INFO:tensorflow:global_step/sec: 455.181\n",
      "INFO:tensorflow:step = 17101, loss = 1.09226e+11 (0.218 sec)\n",
      "INFO:tensorflow:global_step/sec: 465.61\n",
      "INFO:tensorflow:step = 17201, loss = 7.14971e+10 (0.215 sec)\n",
      "INFO:tensorflow:global_step/sec: 496.845\n",
      "INFO:tensorflow:step = 17301, loss = 2.27999e+10 (0.202 sec)\n",
      "INFO:tensorflow:global_step/sec: 593.959\n",
      "INFO:tensorflow:step = 17401, loss = 4.7148e+10 (0.170 sec)\n",
      "INFO:tensorflow:global_step/sec: 486.909\n",
      "INFO:tensorflow:step = 17501, loss = 2.72478e+10 (0.206 sec)\n",
      "INFO:tensorflow:global_step/sec: 429.141\n",
      "INFO:tensorflow:step = 17601, loss = 2.77666e+10 (0.230 sec)\n",
      "INFO:tensorflow:global_step/sec: 475.527\n",
      "INFO:tensorflow:step = 17701, loss = 6.97205e+10 (0.209 sec)\n",
      "INFO:tensorflow:global_step/sec: 532.967\n",
      "INFO:tensorflow:step = 17801, loss = 8.7257e+10 (0.186 sec)\n",
      "INFO:tensorflow:global_step/sec: 445.895\n",
      "INFO:tensorflow:step = 17901, loss = 6.30025e+10 (0.224 sec)\n",
      "INFO:tensorflow:global_step/sec: 512.797\n",
      "INFO:tensorflow:step = 18001, loss = 1.40353e+10 (0.195 sec)\n",
      "INFO:tensorflow:global_step/sec: 510.24\n",
      "INFO:tensorflow:step = 18101, loss = 9.20218e+10 (0.198 sec)\n",
      "INFO:tensorflow:global_step/sec: 529.664\n",
      "INFO:tensorflow:step = 18201, loss = 6.1148e+10 (0.186 sec)\n",
      "INFO:tensorflow:global_step/sec: 579.622\n",
      "INFO:tensorflow:step = 18301, loss = 1.5734e+11 (0.173 sec)\n",
      "INFO:tensorflow:global_step/sec: 467.259\n",
      "INFO:tensorflow:step = 18401, loss = 1.81809e+11 (0.218 sec)\n",
      "INFO:tensorflow:global_step/sec: 503.776\n",
      "INFO:tensorflow:step = 18501, loss = 4.30012e+10 (0.199 sec)\n",
      "INFO:tensorflow:global_step/sec: 468.731\n",
      "INFO:tensorflow:step = 18601, loss = 8.00672e+10 (0.210 sec)\n",
      "INFO:tensorflow:global_step/sec: 471.385\n",
      "INFO:tensorflow:step = 18701, loss = 6.20499e+10 (0.213 sec)\n",
      "INFO:tensorflow:global_step/sec: 549.758\n",
      "INFO:tensorflow:step = 18801, loss = 2.74798e+10 (0.184 sec)\n",
      "INFO:tensorflow:global_step/sec: 510.939\n",
      "INFO:tensorflow:step = 18901, loss = 1.38583e+10 (0.193 sec)\n",
      "INFO:tensorflow:global_step/sec: 547.609\n",
      "INFO:tensorflow:step = 19001, loss = 2.73138e+10 (0.183 sec)\n",
      "INFO:tensorflow:global_step/sec: 552.197\n",
      "INFO:tensorflow:step = 19101, loss = 5.68861e+10 (0.183 sec)\n",
      "INFO:tensorflow:global_step/sec: 546.618\n",
      "INFO:tensorflow:step = 19201, loss = 4.44256e+10 (0.180 sec)\n",
      "INFO:tensorflow:global_step/sec: 549.835\n",
      "INFO:tensorflow:step = 19301, loss = 4.18374e+10 (0.183 sec)\n",
      "INFO:tensorflow:global_step/sec: 553.817\n",
      "INFO:tensorflow:step = 19401, loss = 2.77654e+10 (0.180 sec)\n",
      "INFO:tensorflow:global_step/sec: 546.729\n",
      "INFO:tensorflow:step = 19501, loss = 4.61786e+10 (0.184 sec)\n",
      "INFO:tensorflow:global_step/sec: 552.181\n",
      "INFO:tensorflow:step = 19601, loss = 1.61593e+11 (0.183 sec)\n",
      "INFO:tensorflow:global_step/sec: 554.164\n",
      "INFO:tensorflow:step = 19701, loss = 5.9964e+10 (0.178 sec)\n",
      "INFO:tensorflow:global_step/sec: 474.908\n",
      "INFO:tensorflow:step = 19801, loss = 6.19354e+10 (0.210 sec)\n",
      "INFO:tensorflow:global_step/sec: 557.457\n",
      "INFO:tensorflow:step = 19901, loss = 2.38304e+10 (0.183 sec)\n",
      "INFO:tensorflow:global_step/sec: 496.086\n",
      "INFO:tensorflow:step = 20001, loss = 4.82843e+10 (0.199 sec)\n",
      "INFO:tensorflow:global_step/sec: 540.541\n",
      "INFO:tensorflow:step = 20101, loss = 3.54562e+10 (0.185 sec)\n",
      "INFO:tensorflow:global_step/sec: 535.684\n",
      "INFO:tensorflow:step = 20201, loss = 4.0126e+10 (0.187 sec)\n",
      "INFO:tensorflow:global_step/sec: 558.32\n",
      "INFO:tensorflow:step = 20301, loss = 3.55831e+10 (0.179 sec)\n",
      "INFO:tensorflow:global_step/sec: 503.312\n",
      "INFO:tensorflow:step = 20401, loss = 5.023e+10 (0.199 sec)\n",
      "INFO:tensorflow:global_step/sec: 583.658\n",
      "INFO:tensorflow:step = 20501, loss = 1.37707e+10 (0.173 sec)\n",
      "INFO:tensorflow:global_step/sec: 520.649\n",
      "INFO:tensorflow:step = 20601, loss = 3.59049e+10 (0.189 sec)\n",
      "INFO:tensorflow:global_step/sec: 538.801\n",
      "INFO:tensorflow:step = 20701, loss = 5.66047e+10 (0.186 sec)\n",
      "INFO:tensorflow:global_step/sec: 545.182\n",
      "INFO:tensorflow:step = 20801, loss = 8.2427e+10 (0.184 sec)\n",
      "INFO:tensorflow:global_step/sec: 534.565\n",
      "INFO:tensorflow:step = 20901, loss = 1.116e+11 (0.187 sec)\n",
      "INFO:tensorflow:global_step/sec: 528.827\n",
      "INFO:tensorflow:step = 21001, loss = 3.30459e+10 (0.189 sec)\n",
      "INFO:tensorflow:global_step/sec: 546.286\n",
      "INFO:tensorflow:step = 21101, loss = 1.27814e+11 (0.183 sec)\n",
      "INFO:tensorflow:global_step/sec: 524.938\n",
      "INFO:tensorflow:step = 21201, loss = 2.06476e+10 (0.192 sec)\n",
      "INFO:tensorflow:global_step/sec: 454.114\n",
      "INFO:tensorflow:step = 21301, loss = 8.64495e+10 (0.222 sec)\n",
      "INFO:tensorflow:global_step/sec: 511.81\n",
      "INFO:tensorflow:step = 21401, loss = 3.12067e+10 (0.195 sec)\n",
      "INFO:tensorflow:global_step/sec: 477.808\n",
      "INFO:tensorflow:step = 21501, loss = 2.38011e+10 (0.210 sec)\n",
      "INFO:tensorflow:global_step/sec: 519.456\n",
      "INFO:tensorflow:step = 21601, loss = 4.32661e+10 (0.193 sec)\n",
      "INFO:tensorflow:global_step/sec: 508.221\n",
      "INFO:tensorflow:step = 21701, loss = 5.98985e+10 (0.197 sec)\n",
      "INFO:tensorflow:global_step/sec: 641.424\n",
      "INFO:tensorflow:step = 21801, loss = 1.46316e+11 (0.156 sec)\n",
      "INFO:tensorflow:global_step/sec: 612.528\n",
      "INFO:tensorflow:step = 21901, loss = 4.68796e+10 (0.163 sec)\n",
      "INFO:tensorflow:global_step/sec: 591.055\n",
      "INFO:tensorflow:step = 22001, loss = 1.21179e+11 (0.167 sec)\n",
      "INFO:tensorflow:global_step/sec: 535.306\n",
      "INFO:tensorflow:step = 22101, loss = 1.7891e+10 (0.186 sec)\n",
      "INFO:tensorflow:global_step/sec: 649.51\n",
      "INFO:tensorflow:step = 22201, loss = 2.45167e+10 (0.154 sec)\n",
      "INFO:tensorflow:global_step/sec: 514.957\n",
      "INFO:tensorflow:step = 22301, loss = 4.17083e+10 (0.195 sec)\n",
      "INFO:tensorflow:global_step/sec: 481.559\n",
      "INFO:tensorflow:step = 22401, loss = 1.00662e+11 (0.211 sec)\n",
      "INFO:tensorflow:global_step/sec: 549.339\n",
      "INFO:tensorflow:step = 22501, loss = 2.04114e+10 (0.181 sec)\n",
      "INFO:tensorflow:global_step/sec: 508.927\n",
      "INFO:tensorflow:step = 22601, loss = 6.62021e+10 (0.194 sec)\n",
      "INFO:tensorflow:global_step/sec: 569.408\n",
      "INFO:tensorflow:step = 22701, loss = 3.42602e+10 (0.176 sec)\n",
      "INFO:tensorflow:global_step/sec: 546.236\n",
      "INFO:tensorflow:step = 22801, loss = 3.34962e+10 (0.183 sec)\n",
      "INFO:tensorflow:global_step/sec: 539.858\n",
      "INFO:tensorflow:step = 22901, loss = 2.6862e+10 (0.185 sec)\n",
      "INFO:tensorflow:global_step/sec: 530.011\n",
      "INFO:tensorflow:step = 23001, loss = 1.15975e+11 (0.189 sec)\n",
      "INFO:tensorflow:global_step/sec: 610.229\n",
      "INFO:tensorflow:step = 23101, loss = 1.71532e+10 (0.165 sec)\n",
      "INFO:tensorflow:global_step/sec: 538.489\n",
      "INFO:tensorflow:step = 23201, loss = 6.12811e+10 (0.185 sec)\n",
      "INFO:tensorflow:global_step/sec: 573.602\n",
      "INFO:tensorflow:step = 23301, loss = 4.60937e+10 (0.174 sec)\n",
      "INFO:tensorflow:global_step/sec: 556.504\n",
      "INFO:tensorflow:step = 23401, loss = 9.98958e+10 (0.180 sec)\n",
      "INFO:tensorflow:global_step/sec: 596.915\n",
      "INFO:tensorflow:step = 23501, loss = 3.31743e+10 (0.168 sec)\n",
      "INFO:tensorflow:global_step/sec: 594.877\n",
      "INFO:tensorflow:step = 23601, loss = 1.36283e+10 (0.167 sec)\n",
      "INFO:tensorflow:global_step/sec: 546.95\n",
      "INFO:tensorflow:step = 23701, loss = 7.78453e+10 (0.183 sec)\n",
      "INFO:tensorflow:global_step/sec: 544.176\n",
      "INFO:tensorflow:step = 23801, loss = 3.70191e+10 (0.184 sec)\n",
      "INFO:tensorflow:global_step/sec: 578.537\n",
      "INFO:tensorflow:step = 23901, loss = 1.94991e+10 (0.173 sec)\n",
      "INFO:tensorflow:global_step/sec: 571.876\n",
      "INFO:tensorflow:step = 24001, loss = 9.57489e+10 (0.176 sec)\n",
      "INFO:tensorflow:global_step/sec: 694.57\n",
      "INFO:tensorflow:step = 24101, loss = 1.81441e+11 (0.144 sec)\n"
     ]
    },
    {
     "name": "stdout",
     "output_type": "stream",
     "text": [
      "INFO:tensorflow:global_step/sec: 587.717\n",
      "INFO:tensorflow:step = 24201, loss = 9.105e+09 (0.170 sec)\n",
      "INFO:tensorflow:global_step/sec: 560.497\n",
      "INFO:tensorflow:step = 24301, loss = 1.90711e+10 (0.178 sec)\n",
      "INFO:tensorflow:global_step/sec: 572.853\n",
      "INFO:tensorflow:step = 24401, loss = 7.96592e+10 (0.177 sec)\n",
      "INFO:tensorflow:global_step/sec: 527.919\n",
      "INFO:tensorflow:step = 24501, loss = 3.56568e+10 (0.188 sec)\n",
      "INFO:tensorflow:global_step/sec: 534.92\n",
      "INFO:tensorflow:step = 24601, loss = 4.03118e+10 (0.187 sec)\n",
      "INFO:tensorflow:global_step/sec: 526.114\n",
      "INFO:tensorflow:step = 24701, loss = 7.58168e+10 (0.189 sec)\n",
      "INFO:tensorflow:global_step/sec: 539.86\n",
      "INFO:tensorflow:step = 24801, loss = 5.70829e+10 (0.187 sec)\n",
      "INFO:tensorflow:global_step/sec: 520.934\n",
      "INFO:tensorflow:step = 24901, loss = 2.78e+10 (0.191 sec)\n",
      "INFO:tensorflow:global_step/sec: 517.071\n",
      "INFO:tensorflow:step = 25001, loss = 6.34654e+10 (0.194 sec)\n",
      "INFO:tensorflow:global_step/sec: 547.534\n",
      "INFO:tensorflow:step = 25101, loss = 8.80074e+10 (0.182 sec)\n",
      "INFO:tensorflow:global_step/sec: 541.398\n",
      "INFO:tensorflow:step = 25201, loss = 1.91538e+10 (0.185 sec)\n",
      "INFO:tensorflow:global_step/sec: 541.377\n",
      "INFO:tensorflow:step = 25301, loss = 2.07972e+10 (0.185 sec)\n",
      "INFO:tensorflow:global_step/sec: 519.456\n",
      "INFO:tensorflow:step = 25401, loss = 2.93175e+10 (0.192 sec)\n",
      "INFO:tensorflow:global_step/sec: 546.15\n",
      "INFO:tensorflow:step = 25501, loss = 4.02727e+10 (0.185 sec)\n",
      "INFO:tensorflow:global_step/sec: 557.799\n",
      "INFO:tensorflow:step = 25601, loss = 3.19729e+10 (0.179 sec)\n",
      "INFO:tensorflow:global_step/sec: 595.033\n",
      "INFO:tensorflow:step = 25701, loss = 2.13521e+10 (0.170 sec)\n",
      "INFO:tensorflow:global_step/sec: 574.636\n",
      "INFO:tensorflow:step = 25801, loss = 3.77845e+10 (0.172 sec)\n",
      "INFO:tensorflow:global_step/sec: 449.827\n",
      "INFO:tensorflow:step = 25901, loss = 5.35481e+10 (0.222 sec)\n",
      "INFO:tensorflow:global_step/sec: 540.941\n",
      "INFO:tensorflow:step = 26001, loss = 5.2408e+10 (0.187 sec)\n",
      "INFO:tensorflow:global_step/sec: 592.821\n",
      "INFO:tensorflow:step = 26101, loss = 4.09452e+10 (0.169 sec)\n",
      "INFO:tensorflow:global_step/sec: 534.582\n",
      "INFO:tensorflow:step = 26201, loss = 3.59665e+10 (0.185 sec)\n",
      "INFO:tensorflow:global_step/sec: 520.035\n",
      "INFO:tensorflow:step = 26301, loss = 4.70741e+10 (0.192 sec)\n",
      "INFO:tensorflow:global_step/sec: 554.647\n",
      "INFO:tensorflow:step = 26401, loss = 1.09379e+11 (0.180 sec)\n",
      "INFO:tensorflow:global_step/sec: 581.496\n",
      "INFO:tensorflow:step = 26501, loss = 4.07797e+10 (0.175 sec)\n",
      "INFO:tensorflow:global_step/sec: 504.142\n",
      "INFO:tensorflow:step = 26601, loss = 1.39604e+10 (0.195 sec)\n",
      "INFO:tensorflow:global_step/sec: 554.787\n",
      "INFO:tensorflow:step = 26701, loss = 3.56282e+10 (0.180 sec)\n",
      "INFO:tensorflow:global_step/sec: 580.788\n",
      "INFO:tensorflow:step = 26801, loss = 8.11254e+10 (0.173 sec)\n",
      "INFO:tensorflow:global_step/sec: 539.29\n",
      "INFO:tensorflow:step = 26901, loss = 4.06106e+10 (0.186 sec)\n",
      "INFO:tensorflow:global_step/sec: 490.506\n",
      "INFO:tensorflow:step = 27001, loss = 4.80914e+10 (0.203 sec)\n",
      "INFO:tensorflow:global_step/sec: 578.911\n",
      "INFO:tensorflow:step = 27101, loss = 4.27547e+10 (0.173 sec)\n",
      "INFO:tensorflow:global_step/sec: 543.256\n",
      "INFO:tensorflow:step = 27201, loss = 2.09615e+10 (0.184 sec)\n",
      "INFO:tensorflow:global_step/sec: 558.619\n",
      "INFO:tensorflow:step = 27301, loss = 3.36504e+10 (0.179 sec)\n",
      "INFO:tensorflow:global_step/sec: 576.932\n",
      "INFO:tensorflow:step = 27401, loss = 1.64258e+10 (0.174 sec)\n",
      "INFO:tensorflow:global_step/sec: 581.047\n",
      "INFO:tensorflow:step = 27501, loss = 5.06724e+10 (0.170 sec)\n",
      "INFO:tensorflow:global_step/sec: 542.188\n",
      "INFO:tensorflow:step = 27601, loss = 4.90559e+10 (0.185 sec)\n",
      "INFO:tensorflow:global_step/sec: 594.569\n",
      "INFO:tensorflow:step = 27701, loss = 5.54814e+10 (0.169 sec)\n",
      "INFO:tensorflow:global_step/sec: 571.704\n",
      "INFO:tensorflow:step = 27801, loss = 8.23624e+10 (0.175 sec)\n",
      "INFO:tensorflow:global_step/sec: 568.298\n",
      "INFO:tensorflow:step = 27901, loss = 7.49266e+10 (0.176 sec)\n",
      "INFO:tensorflow:global_step/sec: 532.232\n",
      "INFO:tensorflow:step = 28001, loss = 1.4219e+10 (0.187 sec)\n",
      "INFO:tensorflow:global_step/sec: 551.696\n",
      "INFO:tensorflow:step = 28101, loss = 7.19205e+10 (0.181 sec)\n",
      "INFO:tensorflow:global_step/sec: 543.316\n",
      "INFO:tensorflow:step = 28201, loss = 8.85161e+10 (0.184 sec)\n",
      "INFO:tensorflow:global_step/sec: 538.143\n",
      "INFO:tensorflow:step = 28301, loss = 1.73656e+11 (0.186 sec)\n",
      "INFO:tensorflow:global_step/sec: 543.987\n",
      "INFO:tensorflow:step = 28401, loss = 5.37404e+10 (0.184 sec)\n",
      "INFO:tensorflow:global_step/sec: 612.614\n",
      "INFO:tensorflow:step = 28501, loss = 5.58683e+10 (0.164 sec)\n",
      "INFO:tensorflow:global_step/sec: 538.787\n",
      "INFO:tensorflow:step = 28601, loss = 1.56324e+11 (0.184 sec)\n",
      "INFO:tensorflow:global_step/sec: 547.241\n",
      "INFO:tensorflow:step = 28701, loss = 1.33768e+11 (0.183 sec)\n",
      "INFO:tensorflow:global_step/sec: 547.106\n",
      "INFO:tensorflow:step = 28801, loss = 8.40242e+10 (0.183 sec)\n",
      "INFO:tensorflow:global_step/sec: 587.271\n",
      "INFO:tensorflow:step = 28901, loss = 6.46398e+10 (0.171 sec)\n",
      "INFO:tensorflow:global_step/sec: 597.386\n",
      "INFO:tensorflow:step = 29001, loss = 6.71839e+10 (0.169 sec)\n",
      "INFO:tensorflow:global_step/sec: 504.724\n",
      "INFO:tensorflow:step = 29101, loss = 2.66686e+10 (0.198 sec)\n",
      "INFO:tensorflow:global_step/sec: 631.106\n",
      "INFO:tensorflow:step = 29201, loss = 5.87986e+10 (0.158 sec)\n",
      "INFO:tensorflow:global_step/sec: 563.952\n",
      "INFO:tensorflow:step = 29301, loss = 4.72692e+10 (0.176 sec)\n",
      "INFO:tensorflow:global_step/sec: 544.718\n",
      "INFO:tensorflow:step = 29401, loss = 3.97137e+10 (0.183 sec)\n",
      "INFO:tensorflow:global_step/sec: 619.725\n",
      "INFO:tensorflow:step = 29501, loss = 4.8475e+10 (0.163 sec)\n",
      "INFO:tensorflow:global_step/sec: 535.8\n",
      "INFO:tensorflow:step = 29601, loss = 2.00938e+11 (0.185 sec)\n",
      "INFO:tensorflow:global_step/sec: 535.977\n",
      "INFO:tensorflow:step = 29701, loss = 5.03844e+10 (0.189 sec)\n",
      "INFO:tensorflow:global_step/sec: 513.703\n",
      "INFO:tensorflow:step = 29801, loss = 5.11537e+10 (0.196 sec)\n"
     ]
    }
   ],
   "source": [
    "dnn_model.train(input_fn=input_func,steps=100000)"
   ]
  },
  {
   "cell_type": "markdown",
   "metadata": {},
   "source": [
    "** Create a prediction input function and then use the .predict method off your estimator model to create a list or predictions on your test data. **"
   ]
  },
  {
   "cell_type": "code",
   "execution_count": null,
   "metadata": {},
   "outputs": [],
   "source": [
    "predict_input_func = tf.estimator.inputs.pandas_input_fn(x = X_test, batch_size = 10, num_epochs = 1, shuffle = False)"
   ]
  },
  {
   "cell_type": "code",
   "execution_count": null,
   "metadata": {},
   "outputs": [],
   "source": [
    "pred_gen = dnn_model.predict(predict_input_func)"
   ]
  },
  {
   "cell_type": "code",
   "execution_count": null,
   "metadata": {},
   "outputs": [],
   "source": [
    "predictions = list(pred_gen)"
   ]
  },
  {
   "cell_type": "code",
   "execution_count": null,
   "metadata": {},
   "outputs": [],
   "source": [
    "predictions"
   ]
  },
  {
   "cell_type": "markdown",
   "metadata": {},
   "source": [
    "** Calculate the RMSE. You should be able to get around 100,000 RMSE (remember that this is in the same units as the label.) Do this manually or use [sklearn.metrics](http://scikit-learn.org/stable/modules/generated/sklearn.metrics.mean_squared_error.html) **"
   ]
  },
  {
   "cell_type": "code",
   "execution_count": null,
   "metadata": {
    "collapsed": true
   },
   "outputs": [],
   "source": [
    "final_preds = []\n",
    "for pred in predictions:\n",
    "    final_preds.append(pred['predictions'])"
   ]
  },
  {
   "cell_type": "code",
   "execution_count": null,
   "metadata": {
    "collapsed": true
   },
   "outputs": [],
   "source": [
    "from sklearn.metrics import mean_squared_error"
   ]
  },
  {
   "cell_type": "code",
   "execution_count": null,
   "metadata": {},
   "outputs": [],
   "source": [
    "mean_squared_error(y_test,final_preds)**0.5"
   ]
  },
  {
   "cell_type": "markdown",
   "metadata": {},
   "source": [
    "# Great Job!"
   ]
  },
  {
   "cell_type": "code",
   "execution_count": null,
   "metadata": {
    "collapsed": true
   },
   "outputs": [],
   "source": []
  }
 ],
 "metadata": {
  "kernelspec": {
   "display_name": "Python 3",
   "language": "python",
   "name": "python3"
  },
  "language_info": {
   "codemirror_mode": {
    "name": "ipython",
    "version": 3
   },
   "file_extension": ".py",
   "mimetype": "text/x-python",
   "name": "python",
   "nbconvert_exporter": "python",
   "pygments_lexer": "ipython3",
   "version": "3.5.4"
  }
 },
 "nbformat": 4,
 "nbformat_minor": 2
}
